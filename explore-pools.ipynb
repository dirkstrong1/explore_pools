{
 "cells": [
  {
   "cell_type": "code",
   "execution_count": 1,
   "metadata": {},
   "outputs": [],
   "source": [
    "import json\n",
    "with open('pools.json') as f:\n",
    "    raw_data = json.load(f)"
   ]
  },
  {
   "cell_type": "code",
   "execution_count": 2,
   "metadata": {},
   "outputs": [
    {
     "data": {
      "text/plain": [
       "dict_keys(['meta', 'data'])"
      ]
     },
     "execution_count": 2,
     "metadata": {},
     "output_type": "execute_result"
    }
   ],
   "source": [
    "raw_data.keys()"
   ]
  },
  {
   "cell_type": "code",
   "execution_count": 3,
   "metadata": {},
   "outputs": [],
   "source": [
    "metadata = raw_data['meta']\n",
    "data = raw_data['data']"
   ]
  },
  {
   "cell_type": "code",
   "execution_count": 4,
   "metadata": {},
   "outputs": [],
   "source": [
    "import pandas as pd\n",
    "pd.Series(data[0])\n",
    "fields = {10: 'name', 11: 'address', 12: 'city', 13: 'zip', 14: 'phone'}"
   ]
  },
  {
   "cell_type": "code",
   "execution_count": 5,
   "metadata": {},
   "outputs": [
    {
     "name": "stdout",
     "output_type": "stream",
     "text": [
      "pool_cleaner\n"
     ]
    }
   ],
   "source": [
    "from pool_cleaner import parse_row"
   ]
  },
  {
   "cell_type": "code",
   "execution_count": 6,
   "metadata": {},
   "outputs": [
    {
     "data": {
      "text/plain": [
       "[{'name': 'Martin Luther King Jr Swim Center',\n",
       "  'address': '1201 Jackson Rd',\n",
       "  'city': 'Silver Spring',\n",
       "  'zip': '20904',\n",
       "  'phone': '240-777-8066'},\n",
       " {'name': 'Kennedy-Shriver Aquatic Center (KSAC)',\n",
       "  'address': '5900 Executive Blv',\n",
       "  'city': 'N. Bethesda',\n",
       "  'zip': '20852',\n",
       "  'phone': '240-777-8070'},\n",
       " {'name': 'Olney Swim Center',\n",
       "  'address': '16601 Georgia Ave',\n",
       "  'city': 'Olney',\n",
       "  'zip': '20832',\n",
       "  'phone': '240-777-4995'},\n",
       " {'name': 'Germantown Outdoor Pool',\n",
       "  'address': '18905 Kingsview Rd',\n",
       "  'city': 'Germantown',\n",
       "  'zip': '20874',\n",
       "  'phone': '240-777-8067'},\n",
       " {'name': 'Wheaton / Glenmont Outdoor Pool',\n",
       "  'address': '12621 Dalewood Dr',\n",
       "  'city': 'Wheaton',\n",
       "  'zip': '20906',\n",
       "  'phone': '301-929-5460'},\n",
       " {'name': 'Long Branch Outdoor Pool',\n",
       "  'address': '8700 Piney Branch Rd',\n",
       "  'city': 'Silver Spring',\n",
       "  'zip': '20901',\n",
       "  'phone': '301-431-5700'},\n",
       " {'name': 'Western County Outdoor Pool',\n",
       "  'address': '20151 Fisher Ave',\n",
       "  'city': 'Poolesville',\n",
       "  'zip': '20837',\n",
       "  'phone': '301-349-2217'},\n",
       " {'name': 'Upper County Outdoor Pool',\n",
       "  'address': '8211 Emory Grove Rd',\n",
       "  'city': 'Gaithersburg',\n",
       "  'zip': '20877',\n",
       "  'phone': '301-840-2446'},\n",
       " {'name': 'Bethesda Outdoor Pool',\n",
       "  'address': '6300 Hillandale Rd',\n",
       "  'city': 'Bethesda',\n",
       "  'zip': '20815',\n",
       "  'phone': '301-652-1598'},\n",
       " {'name': 'Water Park at Bohrer Park',\n",
       "  'address': '510 S Frederick Ave',\n",
       "  'city': 'Gaithersburg',\n",
       "  'zip': '20877',\n",
       "  'phone': '301-258-6445'},\n",
       " {'name': 'Gaithersburg Aquatic Center',\n",
       "  'address': '2 Teachers Way',\n",
       "  'city': 'Gaithersburg',\n",
       "  'zip': '20884',\n",
       "  'phone': '301-258-6345'},\n",
       " {'name': 'Rockville Municipal Swim Center',\n",
       "  'address': '355 Martins La',\n",
       "  'city': 'Rockville',\n",
       "  'zip': '20850',\n",
       "  'phone': '240-314-8750'},\n",
       " {'name': 'Germantown Indoor Swim Center',\n",
       "  'address': '18000 Central Park Cir',\n",
       "  'city': 'Boyds',\n",
       "  'zip': '20841',\n",
       "  'phone': '240-777-6830'},\n",
       " {'name': 'Good Hope Sprayground',\n",
       "  'address': '14715 Good Hope Rd',\n",
       "  'city': 'Silver Spring',\n",
       "  'zip': '20905',\n",
       "  'phone': '240-777-8060'}]"
      ]
     },
     "execution_count": 6,
     "metadata": {},
     "output_type": "execute_result"
    }
   ],
   "source": [
    "[parse_row(row, fields) for row in data]"
   ]
  },
  {
   "cell_type": "code",
   "execution_count": null,
   "metadata": {},
   "outputs": [],
   "source": []
  }
 ],
 "metadata": {
  "kernelspec": {
   "display_name": "Python 3",
   "language": "python",
   "name": "python3"
  },
  "language_info": {
   "codemirror_mode": {
    "name": "ipython",
    "version": 3
   },
   "file_extension": ".py",
   "mimetype": "text/x-python",
   "name": "python",
   "nbconvert_exporter": "python",
   "pygments_lexer": "ipython3",
   "version": "3.7.1"
  }
 },
 "nbformat": 4,
 "nbformat_minor": 2
}
